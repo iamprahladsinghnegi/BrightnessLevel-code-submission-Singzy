{
 "cells": [
  {
   "cell_type": "markdown",
   "metadata": {},
   "source": [
    "### Importing packeges"
   ]
  },
  {
   "cell_type": "code",
   "execution_count": 46,
   "metadata": {},
   "outputs": [],
   "source": [
    "import sys\n",
    "import math\n",
    "import numpy as np\n",
    "import cv2\n",
    "from PIL import Image, ImageStat"
   ]
  },
  {
   "cell_type": "markdown",
   "metadata": {},
   "source": [
    "### defining functions to calculate brightness"
   ]
  },
  {
   "cell_type": "markdown",
   "metadata": {},
   "source": [
    "### method 1"
   ]
  },
  {
   "cell_type": "code",
   "execution_count": 30,
   "metadata": {},
   "outputs": [],
   "source": [
    "# Convert image to greyscale, return average pixel brightness\n",
    "def get_brightness_method1( im_file ):\n",
    "    im = Image.open(im_file).convert('L')\n",
    "    stat = ImageStat.Stat(im)\n",
    "    mean_bright = stat.mean[0]\n",
    "    ans = get_brightness(mean_bright)\n",
    "    return ans"
   ]
  },
  {
   "cell_type": "markdown",
   "metadata": {},
   "source": [
    "### method 2"
   ]
  },
  {
   "cell_type": "code",
   "execution_count": 33,
   "metadata": {},
   "outputs": [],
   "source": [
    "# Convert image to greyscale, return RMS pixel brightness\n",
    "def get_brightness_method2( im_file ):\n",
    "    im = Image.open(im_file).convert('L')\n",
    "    stat = ImageStat.Stat(im)\n",
    "    rms_bright = stat.rms[0]\n",
    "    #print(rms_bright)\n",
    "    ans = get_brightness(rms_bright)\n",
    "    return ans"
   ]
  },
  {
   "cell_type": "markdown",
   "metadata": {},
   "source": [
    "### method 3"
   ]
  },
  {
   "cell_type": "code",
   "execution_count": 34,
   "metadata": {},
   "outputs": [],
   "source": [
    "# Average pixels, then transform to perceived brightness\n",
    "def get_brightness_method3( im_file ):\n",
    "    im = Image.open(im_file)\n",
    "    stat = ImageStat.Stat(im)\n",
    "    r,g,b = stat.mean\n",
    "    mean_bright = math.sqrt(0.241*(r**2) + 0.691*(g**2) + 0.068*(b**2))\n",
    "    ans = get_brightness(mean_bright)\n",
    "    return ans"
   ]
  },
  {
   "cell_type": "markdown",
   "metadata": {},
   "source": [
    "### method 4"
   ]
  },
  {
   "cell_type": "code",
   "execution_count": 35,
   "metadata": {},
   "outputs": [],
   "source": [
    "# RMS of pixels, then transform to perceived brightness\n",
    "def get_brightness_method4( im_file ):\n",
    "    im = Image.open(im_file)\n",
    "    stat = ImageStat.Stat(im)\n",
    "    r,g,b = stat.rms\n",
    "    rms_bright = math.sqrt(0.241*(r**2) + 0.691*(g**2) + 0.068*(b**2))\n",
    "    ans = get_brightness(rms_bright)\n",
    "    return ans"
   ]
  },
  {
   "cell_type": "markdown",
   "metadata": {},
   "source": [
    "### method 5"
   ]
  },
  {
   "cell_type": "code",
   "execution_count": 36,
   "metadata": {},
   "outputs": [],
   "source": [
    "# Calculate perceived brightness of pixels, then return average.\n",
    "def get_brightness_method5( im_file ):\n",
    "    im = Image.open(im_file)\n",
    "    stat = ImageStat.Stat(im)\n",
    "    gs = (math.sqrt(0.241*(r**2) + 0.691*(g**2) + 0.068*(b**2)) \n",
    "         for r,g,b in im.getdata())\n",
    "    avg_bright = sum(gs)/stat.count[0]\n",
    "    ans = get_brightness(avg_bright)\n",
    "    return ans"
   ]
  },
  {
   "cell_type": "markdown",
   "metadata": {},
   "source": [
    "### method 6"
   ]
  },
  {
   "cell_type": "code",
   "execution_count": 38,
   "metadata": {},
   "outputs": [],
   "source": [
    "# average pixel brightness\n",
    "def get_brightness_method6( im_file ):\n",
    "    img = cv2.imread(im_file, 1)\n",
    "   # print(\"Image shape : \", img.shape)\n",
    "    while img.size > 777600 *3:\n",
    "      #  print(\"resizing image\")\n",
    "        img = cv2.resize(img, (0, 0), fx=0.5, fy=0.5)\n",
    "      #  print(\"Image shape : \", img.shape)\n",
    "    R = B = G = 0\n",
    "    pixel = 0\n",
    "    summ = 0\n",
    "    for i in range(img.shape[0]):\n",
    "        for j in range(img.shape[1]):\n",
    "            pixel +=1\n",
    "            B += img[i][j][0]\n",
    "            G += img[i][j][1]\n",
    "            R += img[i][j][2]\n",
    "            #summ += (B+G+R)/3\n",
    "\n",
    "    #print(B, G, R)\n",
    "    summ = B + G + R\n",
    "    #print(summ)\n",
    "    total_pixel = 3 * img.shape[0] * img.shape[1]\n",
    "    #print(total_pixel)\n",
    "    avg_bright = summ / total_pixel\n",
    "    #print(brightness)\n",
    "    ans = get_brightness(avg_bright)\n",
    "    return ans\n"
   ]
  },
  {
   "cell_type": "markdown",
   "metadata": {},
   "source": [
    "### function to get brightness leve"
   ]
  },
  {
   "cell_type": "code",
   "execution_count": 39,
   "metadata": {},
   "outputs": [],
   "source": [
    "def get_brightness_level(avg_b):\n",
    "    if avg_b > 231.8179:\n",
    "        return 10\n",
    "    elif avg_b > 208.6362:\n",
    "        return 9\n",
    "    elif avg_b > 185.4544:\n",
    "        return 8\n",
    "    elif avg_b > 162.27259:\n",
    "        return 7\n",
    "    elif avg_b > 139.0908:\n",
    "        return 6\n",
    "    elif avg_b > 115.9089:\n",
    "        return 5\n",
    "    elif avg_b > 92.7272:\n",
    "        return 4\n",
    "    elif avg_b > 69.5454:\n",
    "        return 3\n",
    "    elif avg_b > 46.3636:\n",
    "        return 2\n",
    "    elif avg_b > 23.1818:\n",
    "        return 1\n",
    "    else:\n",
    "        return 0"
   ]
  },
  {
   "cell_type": "code",
   "execution_count": 29,
   "metadata": {},
   "outputs": [],
   "source": [
    "def get_brightness(brightness):\n",
    "    bright_level = get_brightness_level(brightness)\n",
    "    print(\"bright_level : \", bright_level)\n",
    "    return bright_level"
   ]
  },
  {
   "cell_type": "code",
   "execution_count": 32,
   "metadata": {},
   "outputs": [],
   "source": [
    "def final_brightness_level(ls):\n",
    "    return max(set(ls), key = ls.count)\n"
   ]
  },
  {
   "cell_type": "markdown",
   "metadata": {},
   "source": [
    "### entry point"
   ]
  },
  {
   "cell_type": "code",
   "execution_count": 66,
   "metadata": {},
   "outputs": [
    {
     "name": "stdout",
     "output_type": "stream",
     "text": [
      "-f\n",
      "***** Method1 *****\n"
     ]
    },
    {
     "ename": "FileNotFoundError",
     "evalue": "[Errno 2] No such file or directory: '-f'",
     "output_type": "error",
     "traceback": [
      "\u001b[1;31m---------------------------------------------------------------------------\u001b[0m",
      "\u001b[1;31mFileNotFoundError\u001b[0m                         Traceback (most recent call last)",
      "\u001b[1;32m<ipython-input-66-03023845841e>\u001b[0m in \u001b[0;36m<module>\u001b[1;34m\u001b[0m\n\u001b[0;32m      6\u001b[0m \u001b[1;33m\u001b[0m\u001b[0m\n\u001b[0;32m      7\u001b[0m     \u001b[0mprint\u001b[0m\u001b[1;33m(\u001b[0m\u001b[1;34m\"***** Method1 *****\"\u001b[0m\u001b[1;33m)\u001b[0m\u001b[1;33m\u001b[0m\u001b[1;33m\u001b[0m\u001b[0m\n\u001b[1;32m----> 8\u001b[1;33m     \u001b[0mls\u001b[0m\u001b[1;33m.\u001b[0m\u001b[0mappend\u001b[0m\u001b[1;33m(\u001b[0m\u001b[0mget_brightness_method1\u001b[0m\u001b[1;33m(\u001b[0m\u001b[0mfile\u001b[0m\u001b[1;33m)\u001b[0m\u001b[1;33m)\u001b[0m\u001b[1;33m\u001b[0m\u001b[1;33m\u001b[0m\u001b[0m\n\u001b[0m\u001b[0;32m      9\u001b[0m     \u001b[1;31m#print(ls[0])\u001b[0m\u001b[1;33m\u001b[0m\u001b[1;33m\u001b[0m\u001b[1;33m\u001b[0m\u001b[0m\n\u001b[0;32m     10\u001b[0m \u001b[1;33m\u001b[0m\u001b[0m\n",
      "\u001b[1;32m<ipython-input-30-105ea98ff674>\u001b[0m in \u001b[0;36mget_brightness_method1\u001b[1;34m(im_file)\u001b[0m\n\u001b[0;32m      1\u001b[0m \u001b[1;31m# Convert image to greyscale, return average pixel brightness\u001b[0m\u001b[1;33m\u001b[0m\u001b[1;33m\u001b[0m\u001b[1;33m\u001b[0m\u001b[0m\n\u001b[0;32m      2\u001b[0m \u001b[1;32mdef\u001b[0m \u001b[0mget_brightness_method1\u001b[0m\u001b[1;33m(\u001b[0m \u001b[0mim_file\u001b[0m \u001b[1;33m)\u001b[0m\u001b[1;33m:\u001b[0m\u001b[1;33m\u001b[0m\u001b[1;33m\u001b[0m\u001b[0m\n\u001b[1;32m----> 3\u001b[1;33m     \u001b[0mim\u001b[0m \u001b[1;33m=\u001b[0m \u001b[0mImage\u001b[0m\u001b[1;33m.\u001b[0m\u001b[0mopen\u001b[0m\u001b[1;33m(\u001b[0m\u001b[0mim_file\u001b[0m\u001b[1;33m)\u001b[0m\u001b[1;33m.\u001b[0m\u001b[0mconvert\u001b[0m\u001b[1;33m(\u001b[0m\u001b[1;34m'L'\u001b[0m\u001b[1;33m)\u001b[0m\u001b[1;33m\u001b[0m\u001b[1;33m\u001b[0m\u001b[0m\n\u001b[0m\u001b[0;32m      4\u001b[0m     \u001b[0mstat\u001b[0m \u001b[1;33m=\u001b[0m \u001b[0mImageStat\u001b[0m\u001b[1;33m.\u001b[0m\u001b[0mStat\u001b[0m\u001b[1;33m(\u001b[0m\u001b[0mim\u001b[0m\u001b[1;33m)\u001b[0m\u001b[1;33m\u001b[0m\u001b[1;33m\u001b[0m\u001b[0m\n\u001b[0;32m      5\u001b[0m     \u001b[0mmean_bright\u001b[0m \u001b[1;33m=\u001b[0m \u001b[0mstat\u001b[0m\u001b[1;33m.\u001b[0m\u001b[0mmean\u001b[0m\u001b[1;33m[\u001b[0m\u001b[1;36m0\u001b[0m\u001b[1;33m]\u001b[0m\u001b[1;33m\u001b[0m\u001b[1;33m\u001b[0m\u001b[0m\n",
      "\u001b[1;32mD:\\Anaconda3\\lib\\site-packages\\PIL\\Image.py\u001b[0m in \u001b[0;36mopen\u001b[1;34m(fp, mode)\u001b[0m\n\u001b[0;32m   2768\u001b[0m \u001b[1;33m\u001b[0m\u001b[0m\n\u001b[0;32m   2769\u001b[0m     \u001b[1;32mif\u001b[0m \u001b[0mfilename\u001b[0m\u001b[1;33m:\u001b[0m\u001b[1;33m\u001b[0m\u001b[1;33m\u001b[0m\u001b[0m\n\u001b[1;32m-> 2770\u001b[1;33m         \u001b[0mfp\u001b[0m \u001b[1;33m=\u001b[0m \u001b[0mbuiltins\u001b[0m\u001b[1;33m.\u001b[0m\u001b[0mopen\u001b[0m\u001b[1;33m(\u001b[0m\u001b[0mfilename\u001b[0m\u001b[1;33m,\u001b[0m \u001b[1;34m\"rb\"\u001b[0m\u001b[1;33m)\u001b[0m\u001b[1;33m\u001b[0m\u001b[1;33m\u001b[0m\u001b[0m\n\u001b[0m\u001b[0;32m   2771\u001b[0m         \u001b[0mexclusive_fp\u001b[0m \u001b[1;33m=\u001b[0m \u001b[1;32mTrue\u001b[0m\u001b[1;33m\u001b[0m\u001b[1;33m\u001b[0m\u001b[0m\n\u001b[0;32m   2772\u001b[0m \u001b[1;33m\u001b[0m\u001b[0m\n",
      "\u001b[1;31mFileNotFoundError\u001b[0m: [Errno 2] No such file or directory: '-f'"
     ]
    }
   ],
   "source": [
    "\n",
    "    \n",
    "if __name__ ==\"__main__\":\n",
    "    def_file = os.getcwd()+\"\\\\test.jpg\"\n",
    "    file = str(sys.argv[1]) if len(sys.argv) > 1 else def_file\n",
    "    ls = []\n",
    "    \n",
    "    print(\"***** Method1 *****\")\n",
    "    ls.append(get_brightness_method1(file))\n",
    "    #print(ls[0])\n",
    "    \n",
    "    print(\"***** Method2 *****\")\n",
    "    ls.append(get_brightness_method2(file))\n",
    "    #print(ls[1])\n",
    "    \n",
    "    \n",
    "    print(\"***** Method3 *****\")\n",
    "    ls.append(get_brightness_method3(file))\n",
    "    #print(ls[2])\n",
    "    \n",
    "    print(\"***** Method4 *****\")\n",
    "    ls.append(get_brightness_method4(file))\n",
    "    #print(ls[3])\n",
    "    \n",
    "    print(\"***** Method5 *****\")\n",
    "    ls.append(get_brightness_method5(file))\n",
    "    #print(ls[4])\n",
    "    \n",
    "    print(\"***** Method6 *****\")\n",
    "    ls.append(get_brightness_method6(file))\n",
    "    #print(ls[5])\n",
    "    \n",
    "    #print(ls)\n",
    "    ans = final_brightness_level(ls)\n",
    "    print(\"Final Brightness Level is : \", ans)"
   ]
  },
  {
   "cell_type": "code",
   "execution_count": 54,
   "metadata": {},
   "outputs": [
    {
     "data": {
      "text/plain": [
       "'C:\\\\Users\\\\Pankaj Negi\\\\Desktop\\\\Singzy-Brightness\\\\test.jpg'"
      ]
     },
     "execution_count": 54,
     "metadata": {},
     "output_type": "execute_result"
    }
   ],
   "source": [
    "import os\n",
    "\n",
    "file"
   ]
  }
 ],
 "metadata": {
  "kernelspec": {
   "display_name": "Python 3",
   "language": "python",
   "name": "python3"
  },
  "language_info": {
   "codemirror_mode": {
    "name": "ipython",
    "version": 3
   },
   "file_extension": ".py",
   "mimetype": "text/x-python",
   "name": "python",
   "nbconvert_exporter": "python",
   "pygments_lexer": "ipython3",
   "version": "3.7.3"
  }
 },
 "nbformat": 4,
 "nbformat_minor": 2
}
